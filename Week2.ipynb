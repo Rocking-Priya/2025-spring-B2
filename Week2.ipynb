{
  "cells": [
    {
      "cell_type": "markdown",
      "id": "5190b54c-d49c-4d6f-80cc-22555336a9cd",
      "metadata": {
        "id": "5190b54c-d49c-4d6f-80cc-22555336a9cd"
      },
      "source": [
        "# Week 2 - Preprocessing, part 2\n",
        "\n",
        "# 1. Lesson: None"
      ]
    },
    {
      "cell_type": "markdown",
      "id": "47c4e5ff-b05f-4ef2-96f1-49dcb5beb158",
      "metadata": {
        "id": "47c4e5ff-b05f-4ef2-96f1-49dcb5beb158"
      },
      "source": [
        "# 2. Weekly graph question"
      ]
    },
    {
      "cell_type": "markdown",
      "id": "aad37e29-6e84-41fa-886d-abc1312213ab",
      "metadata": {
        "id": "aad37e29-6e84-41fa-886d-abc1312213ab"
      },
      "source": [
        "The Storytelling With Data book mentions planning on a \"Who, What, and How\" for your data story.  Write down a possible Who, What, and How for your data, using the ideas in the book."
      ]
    },
    {
      "cell_type": "markdown",
      "id": "fa5ca730",
      "metadata": {
        "id": "fa5ca730"
      },
      "source": [
        "Who:\n",
        "\n",
        "My audience could be Healthcare policymakers, or Insurance companies, or Employers & HR professionals, or Researchers & analysts,  business managers interested in understanding insights into the trends and patterns of employer-sponsored health insurance (ESI) coverage among private-sector workers in the United States.\n",
        "\n",
        "\n",
        "What:\n",
        "\n",
        "I could highlight trends in employer-sponsored health insurance over time and\n",
        "show differences in coverage across demographics (e.g., gender, race, education level). As well as, identify patterns in how economic shifts or policy changes affect coverage rates.\n",
        "\n",
        "\n",
        "How:\n",
        "\n",
        "I can use line charts to show trends over time, bar charts to compare coverage across different demographics, heatmaps to show geographical variations in coverage, annotated points to highlight major policy changes or economic events affecting coverage, and pie chart to show the distribution or composition of a variables at a glance.\n"
      ]
    },
    {
      "cell_type": "markdown",
      "id": "898eb327-aefd-4ac0-b95a-92b616a2181b",
      "metadata": {
        "id": "898eb327-aefd-4ac0-b95a-92b616a2181b"
      },
      "source": [
        "# 3. Homework - work with your own data"
      ]
    },
    {
      "cell_type": "code",
      "execution_count": null,
      "id": "fe925521-979f-4983-8d85-8db8d1316e99",
      "metadata": {
        "id": "fe925521-979f-4983-8d85-8db8d1316e99"
      },
      "outputs": [],
      "source": [
        "import pandas as pd\n",
        "import numpy as np\n",
        "from datetime import datetime, timedelta"
      ]
    },
    {
      "cell_type": "markdown",
      "id": "14836788-b235-4cd4-b94d-5f749c6141a8",
      "metadata": {
        "id": "14836788-b235-4cd4-b94d-5f749c6141a8"
      },
      "source": [
        "This week, you will do the same types of exercises as last week, but you should use your own datasets that you found last semester.\n",
        "\n",
        "### Here are some types of analysis you can do  Use Google, documentation, and ChatGPT to help you:\n",
        "\n",
        "- Summarize the datasets using info() and describe()\n",
        "\n",
        "- Are there any duplicate rows?\n",
        "\n",
        "- Are there any duplicate values in a given column (when this would be inappropriate?)\n",
        "\n",
        "- What are the mean, median, and mode of each column?\n",
        "\n",
        "- Are there any missing or null values?\n",
        "\n",
        "    - Do you want to fill in the missing value with a mean value?  A value of your choice?  Remove that row?\n",
        "\n",
        "- Identify any other inconsistent data (e.g. someone seems to be taking an action before they are born.)\n",
        "\n",
        "- Encode any categorical variables (e.g. with one-hot encoding.)\n",
        "\n",
        "### Conclusions:\n",
        "\n",
        "- Are the data usable?  If not, find some new data!\n",
        "\n",
        "- Do you need to modify or correct the data in some way?\n",
        "\n",
        "- Is there any class imbalance?  (Categories that have many more items than other categories)."
      ]
    },
    {
      "cell_type": "code",
      "execution_count": null,
      "id": "801ae614",
      "metadata": {
        "id": "801ae614",
        "outputId": "6413ab55-638f-46ae-968c-45c922e496fb"
      },
      "outputs": [
        {
          "data": {
            "text/html": [
              "<div>\n",
              "<style scoped>\n",
              "    .dataframe tbody tr th:only-of-type {\n",
              "        vertical-align: middle;\n",
              "    }\n",
              "\n",
              "    .dataframe tbody tr th {\n",
              "        vertical-align: top;\n",
              "    }\n",
              "\n",
              "    .dataframe thead th {\n",
              "        text-align: right;\n",
              "    }\n",
              "</style>\n",
              "<table border=\"1\" class=\"dataframe\">\n",
              "  <thead>\n",
              "    <tr style=\"text-align: right;\">\n",
              "      <th></th>\n",
              "      <th>year</th>\n",
              "      <th>all</th>\n",
              "      <th>white</th>\n",
              "      <th>black</th>\n",
              "      <th>hispanic</th>\n",
              "      <th>men</th>\n",
              "      <th>white_men</th>\n",
              "      <th>black_men</th>\n",
              "      <th>hispanic_men</th>\n",
              "      <th>women</th>\n",
              "      <th>white_women</th>\n",
              "      <th>black_women</th>\n",
              "      <th>hispanic_women</th>\n",
              "      <th>high_school</th>\n",
              "      <th>bachelors_degree</th>\n",
              "      <th>recent_high-school_graduate</th>\n",
              "      <th>recent_college_graduate</th>\n",
              "    </tr>\n",
              "  </thead>\n",
              "  <tbody>\n",
              "    <tr>\n",
              "      <th>0</th>\n",
              "      <td>2019</td>\n",
              "      <td>53.8</td>\n",
              "      <td>58.0</td>\n",
              "      <td>52.6</td>\n",
              "      <td>41.4</td>\n",
              "      <td>56.8</td>\n",
              "      <td>62.0</td>\n",
              "      <td>53.8</td>\n",
              "      <td>42.4</td>\n",
              "      <td>50.4</td>\n",
              "      <td>53.2</td>\n",
              "      <td>51.5</td>\n",
              "      <td>40.0</td>\n",
              "      <td>46.9</td>\n",
              "      <td>63.2</td>\n",
              "      <td>16.3</td>\n",
              "      <td>37.0</td>\n",
              "    </tr>\n",
              "    <tr>\n",
              "      <th>1</th>\n",
              "      <td>2018</td>\n",
              "      <td>52.6</td>\n",
              "      <td>56.8</td>\n",
              "      <td>51.1</td>\n",
              "      <td>39.8</td>\n",
              "      <td>55.1</td>\n",
              "      <td>60.2</td>\n",
              "      <td>51.8</td>\n",
              "      <td>40.9</td>\n",
              "      <td>49.6</td>\n",
              "      <td>52.6</td>\n",
              "      <td>50.4</td>\n",
              "      <td>38.3</td>\n",
              "      <td>46.0</td>\n",
              "      <td>62.5</td>\n",
              "      <td>14.3</td>\n",
              "      <td>41.6</td>\n",
              "    </tr>\n",
              "    <tr>\n",
              "      <th>2</th>\n",
              "      <td>2017</td>\n",
              "      <td>54.0</td>\n",
              "      <td>57.3</td>\n",
              "      <td>52.1</td>\n",
              "      <td>43.0</td>\n",
              "      <td>57.1</td>\n",
              "      <td>61.4</td>\n",
              "      <td>53.6</td>\n",
              "      <td>44.4</td>\n",
              "      <td>50.2</td>\n",
              "      <td>52.4</td>\n",
              "      <td>50.8</td>\n",
              "      <td>41.1</td>\n",
              "      <td>47.6</td>\n",
              "      <td>64.1</td>\n",
              "      <td>15.8</td>\n",
              "      <td>37.0</td>\n",
              "    </tr>\n",
              "    <tr>\n",
              "      <th>3</th>\n",
              "      <td>2016</td>\n",
              "      <td>53.1</td>\n",
              "      <td>56.7</td>\n",
              "      <td>51.2</td>\n",
              "      <td>41.6</td>\n",
              "      <td>56.6</td>\n",
              "      <td>60.8</td>\n",
              "      <td>52.2</td>\n",
              "      <td>44.2</td>\n",
              "      <td>49.0</td>\n",
              "      <td>51.8</td>\n",
              "      <td>50.3</td>\n",
              "      <td>38.1</td>\n",
              "      <td>47.9</td>\n",
              "      <td>62.8</td>\n",
              "      <td>15.6</td>\n",
              "      <td>34.1</td>\n",
              "    </tr>\n",
              "    <tr>\n",
              "      <th>4</th>\n",
              "      <td>2015</td>\n",
              "      <td>52.7</td>\n",
              "      <td>56.3</td>\n",
              "      <td>50.0</td>\n",
              "      <td>41.2</td>\n",
              "      <td>55.9</td>\n",
              "      <td>60.5</td>\n",
              "      <td>51.0</td>\n",
              "      <td>42.6</td>\n",
              "      <td>48.8</td>\n",
              "      <td>51.3</td>\n",
              "      <td>49.1</td>\n",
              "      <td>39.2</td>\n",
              "      <td>47.1</td>\n",
              "      <td>63.5</td>\n",
              "      <td>17.5</td>\n",
              "      <td>36.8</td>\n",
              "    </tr>\n",
              "    <tr>\n",
              "      <th>5</th>\n",
              "      <td>2014</td>\n",
              "      <td>52.8</td>\n",
              "      <td>56.9</td>\n",
              "      <td>50.8</td>\n",
              "      <td>39.3</td>\n",
              "      <td>56.3</td>\n",
              "      <td>61.7</td>\n",
              "      <td>53.3</td>\n",
              "      <td>40.2</td>\n",
              "      <td>48.6</td>\n",
              "      <td>51.2</td>\n",
              "      <td>48.5</td>\n",
              "      <td>38.1</td>\n",
              "      <td>47.4</td>\n",
              "      <td>63.3</td>\n",
              "      <td>15.4</td>\n",
              "      <td>40.1</td>\n",
              "    </tr>\n",
              "    <tr>\n",
              "      <th>6</th>\n",
              "      <td>2013</td>\n",
              "      <td>52.7</td>\n",
              "      <td>57.1</td>\n",
              "      <td>50.0</td>\n",
              "      <td>37.3</td>\n",
              "      <td>55.5</td>\n",
              "      <td>61.6</td>\n",
              "      <td>50.1</td>\n",
              "      <td>36.7</td>\n",
              "      <td>49.3</td>\n",
              "      <td>51.9</td>\n",
              "      <td>50.0</td>\n",
              "      <td>38.4</td>\n",
              "      <td>47.7</td>\n",
              "      <td>64.3</td>\n",
              "      <td>17.0</td>\n",
              "      <td>45.1</td>\n",
              "    </tr>\n",
              "    <tr>\n",
              "      <th>7</th>\n",
              "      <td>2012</td>\n",
              "      <td>51.6</td>\n",
              "      <td>56.3</td>\n",
              "      <td>48.5</td>\n",
              "      <td>35.6</td>\n",
              "      <td>54.2</td>\n",
              "      <td>60.4</td>\n",
              "      <td>47.8</td>\n",
              "      <td>35.2</td>\n",
              "      <td>48.6</td>\n",
              "      <td>51.5</td>\n",
              "      <td>49.1</td>\n",
              "      <td>36.2</td>\n",
              "      <td>45.2</td>\n",
              "      <td>64.5</td>\n",
              "      <td>12.3</td>\n",
              "      <td>38.3</td>\n",
              "    </tr>\n",
              "    <tr>\n",
              "      <th>8</th>\n",
              "      <td>2011</td>\n",
              "      <td>52.3</td>\n",
              "      <td>56.9</td>\n",
              "      <td>50.0</td>\n",
              "      <td>35.8</td>\n",
              "      <td>55.4</td>\n",
              "      <td>61.5</td>\n",
              "      <td>50.3</td>\n",
              "      <td>35.5</td>\n",
              "      <td>48.6</td>\n",
              "      <td>51.5</td>\n",
              "      <td>49.7</td>\n",
              "      <td>36.1</td>\n",
              "      <td>46.9</td>\n",
              "      <td>65.0</td>\n",
              "      <td>13.2</td>\n",
              "      <td>38.1</td>\n",
              "    </tr>\n",
              "    <tr>\n",
              "      <th>9</th>\n",
              "      <td>2010</td>\n",
              "      <td>53.1</td>\n",
              "      <td>57.8</td>\n",
              "      <td>49.5</td>\n",
              "      <td>36.5</td>\n",
              "      <td>55.8</td>\n",
              "      <td>62.5</td>\n",
              "      <td>48.9</td>\n",
              "      <td>34.9</td>\n",
              "      <td>49.9</td>\n",
              "      <td>52.3</td>\n",
              "      <td>50.0</td>\n",
              "      <td>39.0</td>\n",
              "      <td>47.9</td>\n",
              "      <td>66.4</td>\n",
              "      <td>11.8</td>\n",
              "      <td>48.9</td>\n",
              "    </tr>\n",
              "  </tbody>\n",
              "</table>\n",
              "</div>"
            ],
            "text/plain": [
              "   year   all  white  black  hispanic   men  white_men  black_men  \\\n",
              "0  2019  53.8   58.0   52.6      41.4  56.8       62.0       53.8   \n",
              "1  2018  52.6   56.8   51.1      39.8  55.1       60.2       51.8   \n",
              "2  2017  54.0   57.3   52.1      43.0  57.1       61.4       53.6   \n",
              "3  2016  53.1   56.7   51.2      41.6  56.6       60.8       52.2   \n",
              "4  2015  52.7   56.3   50.0      41.2  55.9       60.5       51.0   \n",
              "5  2014  52.8   56.9   50.8      39.3  56.3       61.7       53.3   \n",
              "6  2013  52.7   57.1   50.0      37.3  55.5       61.6       50.1   \n",
              "7  2012  51.6   56.3   48.5      35.6  54.2       60.4       47.8   \n",
              "8  2011  52.3   56.9   50.0      35.8  55.4       61.5       50.3   \n",
              "9  2010  53.1   57.8   49.5      36.5  55.8       62.5       48.9   \n",
              "\n",
              "   hispanic_men  women  white_women  black_women  hispanic_women  high_school  \\\n",
              "0          42.4   50.4         53.2         51.5            40.0         46.9   \n",
              "1          40.9   49.6         52.6         50.4            38.3         46.0   \n",
              "2          44.4   50.2         52.4         50.8            41.1         47.6   \n",
              "3          44.2   49.0         51.8         50.3            38.1         47.9   \n",
              "4          42.6   48.8         51.3         49.1            39.2         47.1   \n",
              "5          40.2   48.6         51.2         48.5            38.1         47.4   \n",
              "6          36.7   49.3         51.9         50.0            38.4         47.7   \n",
              "7          35.2   48.6         51.5         49.1            36.2         45.2   \n",
              "8          35.5   48.6         51.5         49.7            36.1         46.9   \n",
              "9          34.9   49.9         52.3         50.0            39.0         47.9   \n",
              "\n",
              "   bachelors_degree  recent_high-school_graduate  recent_college_graduate  \n",
              "0              63.2                         16.3                     37.0  \n",
              "1              62.5                         14.3                     41.6  \n",
              "2              64.1                         15.8                     37.0  \n",
              "3              62.8                         15.6                     34.1  \n",
              "4              63.5                         17.5                     36.8  \n",
              "5              63.3                         15.4                     40.1  \n",
              "6              64.3                         17.0                     45.1  \n",
              "7              64.5                         12.3                     38.3  \n",
              "8              65.0                         13.2                     38.1  \n",
              "9              66.4                         11.8                     48.9  "
            ]
          },
          "execution_count": 44,
          "metadata": {},
          "output_type": "execute_result"
        }
      ],
      "source": [
        "df_health = pd.read_csv(\"/workspaces/2025-spring-B2/health_insurance_coverage.csv\")\n",
        "df_health.head(10)"
      ]
    },
    {
      "cell_type": "code",
      "execution_count": null,
      "id": "51a8720e",
      "metadata": {
        "id": "51a8720e",
        "outputId": "b158b4ca-5aae-47c1-9723-fec73ac3289d"
      },
      "outputs": [
        {
          "name": "stdout",
          "output_type": "stream",
          "text": [
            "<class 'pandas.core.frame.DataFrame'>\n",
            "RangeIndex: 41 entries, 0 to 40\n",
            "Data columns (total 17 columns):\n",
            " #   Column                       Non-Null Count  Dtype  \n",
            "---  ------                       --------------  -----  \n",
            " 0   year                         41 non-null     int64  \n",
            " 1   all                          41 non-null     float64\n",
            " 2   white                        41 non-null     float64\n",
            " 3   black                        41 non-null     float64\n",
            " 4   hispanic                     41 non-null     float64\n",
            " 5   men                          41 non-null     float64\n",
            " 6   white_men                    41 non-null     float64\n",
            " 7   black_men                    41 non-null     float64\n",
            " 8   hispanic_men                 41 non-null     float64\n",
            " 9   women                        41 non-null     float64\n",
            " 10  white_women                  41 non-null     float64\n",
            " 11  black_women                  41 non-null     float64\n",
            " 12  hispanic_women               41 non-null     float64\n",
            " 13  high_school                  41 non-null     float64\n",
            " 14  bachelors_degree             41 non-null     float64\n",
            " 15  recent_high-school_graduate  34 non-null     float64\n",
            " 16  recent_college_graduate      34 non-null     float64\n",
            "dtypes: float64(16), int64(1)\n",
            "memory usage: 5.6 KB\n"
          ]
        }
      ],
      "source": [
        "df_health.info()"
      ]
    },
    {
      "cell_type": "code",
      "execution_count": null,
      "id": "807a9266",
      "metadata": {
        "id": "807a9266",
        "outputId": "c2e76fbf-b49d-4129-9aa7-e47d3df1c777"
      },
      "outputs": [
        {
          "data": {
            "text/html": [
              "<div>\n",
              "<style scoped>\n",
              "    .dataframe tbody tr th:only-of-type {\n",
              "        vertical-align: middle;\n",
              "    }\n",
              "\n",
              "    .dataframe tbody tr th {\n",
              "        vertical-align: top;\n",
              "    }\n",
              "\n",
              "    .dataframe thead th {\n",
              "        text-align: right;\n",
              "    }\n",
              "</style>\n",
              "<table border=\"1\" class=\"dataframe\">\n",
              "  <thead>\n",
              "    <tr style=\"text-align: right;\">\n",
              "      <th></th>\n",
              "      <th>year</th>\n",
              "      <th>all</th>\n",
              "      <th>white</th>\n",
              "      <th>black</th>\n",
              "      <th>hispanic</th>\n",
              "      <th>men</th>\n",
              "      <th>white_men</th>\n",
              "      <th>black_men</th>\n",
              "      <th>hispanic_men</th>\n",
              "      <th>women</th>\n",
              "      <th>white_women</th>\n",
              "      <th>black_women</th>\n",
              "      <th>hispanic_women</th>\n",
              "      <th>high_school</th>\n",
              "      <th>bachelors_degree</th>\n",
              "      <th>recent_high-school_graduate</th>\n",
              "      <th>recent_college_graduate</th>\n",
              "    </tr>\n",
              "  </thead>\n",
              "  <tbody>\n",
              "    <tr>\n",
              "      <th>count</th>\n",
              "      <td>41.000000</td>\n",
              "      <td>41.000000</td>\n",
              "      <td>41.000000</td>\n",
              "      <td>41.000000</td>\n",
              "      <td>41.000000</td>\n",
              "      <td>41.000000</td>\n",
              "      <td>41.000000</td>\n",
              "      <td>41.000000</td>\n",
              "      <td>41.000000</td>\n",
              "      <td>41.000000</td>\n",
              "      <td>41.000000</td>\n",
              "      <td>41.000000</td>\n",
              "      <td>41.000000</td>\n",
              "      <td>41.000000</td>\n",
              "      <td>41.000000</td>\n",
              "      <td>34.000000</td>\n",
              "      <td>34.000000</td>\n",
              "    </tr>\n",
              "    <tr>\n",
              "      <th>mean</th>\n",
              "      <td>1999.000000</td>\n",
              "      <td>58.829268</td>\n",
              "      <td>62.036585</td>\n",
              "      <td>54.885366</td>\n",
              "      <td>44.363415</td>\n",
              "      <td>63.002439</td>\n",
              "      <td>67.490244</td>\n",
              "      <td>56.053659</td>\n",
              "      <td>44.958537</td>\n",
              "      <td>53.539024</td>\n",
              "      <td>55.185366</td>\n",
              "      <td>53.648780</td>\n",
              "      <td>43.412195</td>\n",
              "      <td>55.848780</td>\n",
              "      <td>71.156098</td>\n",
              "      <td>22.547059</td>\n",
              "      <td>54.170588</td>\n",
              "    </tr>\n",
              "    <tr>\n",
              "      <th>std</th>\n",
              "      <td>11.979149</td>\n",
              "      <td>5.612898</td>\n",
              "      <td>4.559592</td>\n",
              "      <td>4.779151</td>\n",
              "      <td>7.898600</td>\n",
              "      <td>6.775230</td>\n",
              "      <td>5.473016</td>\n",
              "      <td>5.799616</td>\n",
              "      <td>8.904380</td>\n",
              "      <td>3.857776</td>\n",
              "      <td>3.050702</td>\n",
              "      <td>3.730022</td>\n",
              "      <td>6.386752</td>\n",
              "      <td>7.599182</td>\n",
              "      <td>5.686697</td>\n",
              "      <td>7.590274</td>\n",
              "      <td>11.024835</td>\n",
              "    </tr>\n",
              "    <tr>\n",
              "      <th>min</th>\n",
              "      <td>1979.000000</td>\n",
              "      <td>51.600000</td>\n",
              "      <td>56.300000</td>\n",
              "      <td>48.500000</td>\n",
              "      <td>35.600000</td>\n",
              "      <td>54.200000</td>\n",
              "      <td>60.200000</td>\n",
              "      <td>47.800000</td>\n",
              "      <td>34.900000</td>\n",
              "      <td>48.600000</td>\n",
              "      <td>51.200000</td>\n",
              "      <td>48.500000</td>\n",
              "      <td>36.100000</td>\n",
              "      <td>45.200000</td>\n",
              "      <td>62.500000</td>\n",
              "      <td>11.800000</td>\n",
              "      <td>34.100000</td>\n",
              "    </tr>\n",
              "    <tr>\n",
              "      <th>25%</th>\n",
              "      <td>1989.000000</td>\n",
              "      <td>54.000000</td>\n",
              "      <td>58.200000</td>\n",
              "      <td>52.100000</td>\n",
              "      <td>39.400000</td>\n",
              "      <td>57.100000</td>\n",
              "      <td>62.700000</td>\n",
              "      <td>52.700000</td>\n",
              "      <td>39.300000</td>\n",
              "      <td>50.400000</td>\n",
              "      <td>53.200000</td>\n",
              "      <td>50.800000</td>\n",
              "      <td>39.300000</td>\n",
              "      <td>48.400000</td>\n",
              "      <td>66.500000</td>\n",
              "      <td>16.450000</td>\n",
              "      <td>45.825000</td>\n",
              "    </tr>\n",
              "    <tr>\n",
              "      <th>50%</th>\n",
              "      <td>1999.000000</td>\n",
              "      <td>58.300000</td>\n",
              "      <td>61.700000</td>\n",
              "      <td>53.900000</td>\n",
              "      <td>41.600000</td>\n",
              "      <td>62.600000</td>\n",
              "      <td>67.100000</td>\n",
              "      <td>53.900000</td>\n",
              "      <td>42.300000</td>\n",
              "      <td>53.000000</td>\n",
              "      <td>54.600000</td>\n",
              "      <td>52.800000</td>\n",
              "      <td>40.800000</td>\n",
              "      <td>55.600000</td>\n",
              "      <td>71.600000</td>\n",
              "      <td>21.900000</td>\n",
              "      <td>57.250000</td>\n",
              "    </tr>\n",
              "    <tr>\n",
              "      <th>75%</th>\n",
              "      <td>2009.000000</td>\n",
              "      <td>61.500000</td>\n",
              "      <td>64.000000</td>\n",
              "      <td>55.700000</td>\n",
              "      <td>46.000000</td>\n",
              "      <td>66.700000</td>\n",
              "      <td>70.400000</td>\n",
              "      <td>56.800000</td>\n",
              "      <td>45.800000</td>\n",
              "      <td>54.800000</td>\n",
              "      <td>55.700000</td>\n",
              "      <td>54.900000</td>\n",
              "      <td>44.700000</td>\n",
              "      <td>60.700000</td>\n",
              "      <td>75.000000</td>\n",
              "      <td>26.475000</td>\n",
              "      <td>61.625000</td>\n",
              "    </tr>\n",
              "    <tr>\n",
              "      <th>max</th>\n",
              "      <td>2019.000000</td>\n",
              "      <td>70.500000</td>\n",
              "      <td>71.800000</td>\n",
              "      <td>65.500000</td>\n",
              "      <td>62.200000</td>\n",
              "      <td>77.100000</td>\n",
              "      <td>78.900000</td>\n",
              "      <td>69.000000</td>\n",
              "      <td>66.600000</td>\n",
              "      <td>61.300000</td>\n",
              "      <td>61.700000</td>\n",
              "      <td>62.700000</td>\n",
              "      <td>59.300000</td>\n",
              "      <td>70.700000</td>\n",
              "      <td>81.500000</td>\n",
              "      <td>43.100000</td>\n",
              "      <td>72.100000</td>\n",
              "    </tr>\n",
              "  </tbody>\n",
              "</table>\n",
              "</div>"
            ],
            "text/plain": [
              "              year        all      white      black   hispanic        men  \\\n",
              "count    41.000000  41.000000  41.000000  41.000000  41.000000  41.000000   \n",
              "mean   1999.000000  58.829268  62.036585  54.885366  44.363415  63.002439   \n",
              "std      11.979149   5.612898   4.559592   4.779151   7.898600   6.775230   \n",
              "min    1979.000000  51.600000  56.300000  48.500000  35.600000  54.200000   \n",
              "25%    1989.000000  54.000000  58.200000  52.100000  39.400000  57.100000   \n",
              "50%    1999.000000  58.300000  61.700000  53.900000  41.600000  62.600000   \n",
              "75%    2009.000000  61.500000  64.000000  55.700000  46.000000  66.700000   \n",
              "max    2019.000000  70.500000  71.800000  65.500000  62.200000  77.100000   \n",
              "\n",
              "       white_men  black_men  hispanic_men      women  white_women  \\\n",
              "count  41.000000  41.000000     41.000000  41.000000    41.000000   \n",
              "mean   67.490244  56.053659     44.958537  53.539024    55.185366   \n",
              "std     5.473016   5.799616      8.904380   3.857776     3.050702   \n",
              "min    60.200000  47.800000     34.900000  48.600000    51.200000   \n",
              "25%    62.700000  52.700000     39.300000  50.400000    53.200000   \n",
              "50%    67.100000  53.900000     42.300000  53.000000    54.600000   \n",
              "75%    70.400000  56.800000     45.800000  54.800000    55.700000   \n",
              "max    78.900000  69.000000     66.600000  61.300000    61.700000   \n",
              "\n",
              "       black_women  hispanic_women  high_school  bachelors_degree  \\\n",
              "count    41.000000       41.000000    41.000000         41.000000   \n",
              "mean     53.648780       43.412195    55.848780         71.156098   \n",
              "std       3.730022        6.386752     7.599182          5.686697   \n",
              "min      48.500000       36.100000    45.200000         62.500000   \n",
              "25%      50.800000       39.300000    48.400000         66.500000   \n",
              "50%      52.800000       40.800000    55.600000         71.600000   \n",
              "75%      54.900000       44.700000    60.700000         75.000000   \n",
              "max      62.700000       59.300000    70.700000         81.500000   \n",
              "\n",
              "       recent_high-school_graduate  recent_college_graduate  \n",
              "count                    34.000000                34.000000  \n",
              "mean                     22.547059                54.170588  \n",
              "std                       7.590274                11.024835  \n",
              "min                      11.800000                34.100000  \n",
              "25%                      16.450000                45.825000  \n",
              "50%                      21.900000                57.250000  \n",
              "75%                      26.475000                61.625000  \n",
              "max                      43.100000                72.100000  "
            ]
          },
          "execution_count": 46,
          "metadata": {},
          "output_type": "execute_result"
        }
      ],
      "source": [
        "df_health.describe()"
      ]
    },
    {
      "cell_type": "code",
      "execution_count": null,
      "id": "8325d854",
      "metadata": {
        "id": "8325d854",
        "outputId": "4c722683-299a-4207-c924-a40d8e523c1a"
      },
      "outputs": [
        {
          "data": {
            "text/plain": [
              "np.int64(0)"
            ]
          },
          "execution_count": 47,
          "metadata": {},
          "output_type": "execute_result"
        }
      ],
      "source": [
        "df_health.duplicated().sum()"
      ]
    },
    {
      "cell_type": "code",
      "execution_count": null,
      "id": "f36d9e76",
      "metadata": {
        "id": "f36d9e76",
        "outputId": "a13bec6e-158a-4ae0-9f12-2b304e084ba0"
      },
      "outputs": [
        {
          "data": {
            "text/plain": [
              "year                           1999.000000\n",
              "all                              58.829268\n",
              "white                            62.036585\n",
              "black                            54.885366\n",
              "hispanic                         44.363415\n",
              "men                              63.002439\n",
              "white_men                        67.490244\n",
              "black_men                        56.053659\n",
              "hispanic_men                     44.958537\n",
              "women                            53.539024\n",
              "white_women                      55.185366\n",
              "black_women                      53.648780\n",
              "hispanic_women                   43.412195\n",
              "high_school                      55.848780\n",
              "bachelors_degree                 71.156098\n",
              "recent_high-school_graduate      22.547059\n",
              "recent_college_graduate          54.170588\n",
              "dtype: float64"
            ]
          },
          "execution_count": 48,
          "metadata": {},
          "output_type": "execute_result"
        }
      ],
      "source": [
        "df_health.mean()"
      ]
    },
    {
      "cell_type": "code",
      "execution_count": null,
      "id": "f5fa93ab",
      "metadata": {
        "id": "f5fa93ab",
        "outputId": "0ccf7de5-cc81-4a7d-f408-f18ca7d78c90"
      },
      "outputs": [
        {
          "data": {
            "text/plain": [
              "year                           1999.00\n",
              "all                              58.30\n",
              "white                            61.70\n",
              "black                            53.90\n",
              "hispanic                         41.60\n",
              "men                              62.60\n",
              "white_men                        67.10\n",
              "black_men                        53.90\n",
              "hispanic_men                     42.30\n",
              "women                            53.00\n",
              "white_women                      54.60\n",
              "black_women                      52.80\n",
              "hispanic_women                   40.80\n",
              "high_school                      55.60\n",
              "bachelors_degree                 71.60\n",
              "recent_high-school_graduate      21.90\n",
              "recent_college_graduate          57.25\n",
              "dtype: float64"
            ]
          },
          "execution_count": 49,
          "metadata": {},
          "output_type": "execute_result"
        }
      ],
      "source": [
        "df_health.median()"
      ]
    },
    {
      "cell_type": "code",
      "execution_count": null,
      "id": "9d70aee7",
      "metadata": {
        "id": "9d70aee7",
        "outputId": "d2a2ed64-27b9-4453-d0f0-7955840f0345"
      },
      "outputs": [
        {
          "data": {
            "text/plain": [
              "year                           1979.0\n",
              "all                              58.9\n",
              "white                            61.2\n",
              "black                            50.0\n",
              "hispanic                         41.2\n",
              "men                              58.4\n",
              "white_men                        67.0\n",
              "black_men                        56.1\n",
              "hispanic_men                     42.3\n",
              "women                            48.6\n",
              "white_women                      55.0\n",
              "black_women                      50.0\n",
              "hispanic_women                   38.1\n",
              "high_school                      56.2\n",
              "bachelors_degree                 68.8\n",
              "recent_high-school_graduate      19.9\n",
              "recent_college_graduate          37.0\n",
              "Name: 0, dtype: float64"
            ]
          },
          "execution_count": 50,
          "metadata": {},
          "output_type": "execute_result"
        }
      ],
      "source": [
        "df_health.mode().iloc[0]"
      ]
    },
    {
      "cell_type": "code",
      "execution_count": null,
      "id": "7d088b1e",
      "metadata": {
        "id": "7d088b1e",
        "outputId": "5198418b-fd02-4bb5-a905-387309062dd1"
      },
      "outputs": [
        {
          "data": {
            "text/plain": [
              "year                           0\n",
              "all                            0\n",
              "white                          0\n",
              "black                          0\n",
              "hispanic                       0\n",
              "men                            0\n",
              "white_men                      0\n",
              "black_men                      0\n",
              "hispanic_men                   0\n",
              "women                          0\n",
              "white_women                    0\n",
              "black_women                    0\n",
              "hispanic_women                 0\n",
              "high_school                    0\n",
              "bachelors_degree               0\n",
              "recent_high-school_graduate    7\n",
              "recent_college_graduate        7\n",
              "dtype: int64"
            ]
          },
          "execution_count": 51,
          "metadata": {},
          "output_type": "execute_result"
        }
      ],
      "source": [
        "df_health.isnull().sum()"
      ]
    },
    {
      "cell_type": "code",
      "execution_count": null,
      "id": "ece060a8",
      "metadata": {
        "id": "ece060a8"
      },
      "outputs": [],
      "source": [
        "df_health.dropna(inplace=True) # removing the missing value rows won't affect result significantly only if the dataset is large"
      ]
    },
    {
      "cell_type": "code",
      "execution_count": null,
      "id": "d19c105c",
      "metadata": {
        "id": "d19c105c",
        "outputId": "f8b42b4e-508b-428f-bc8b-69d7cb9b63bf"
      },
      "outputs": [
        {
          "data": {
            "text/plain": [
              "year                           0\n",
              "all                            0\n",
              "white                          0\n",
              "black                          0\n",
              "hispanic                       0\n",
              "men                            0\n",
              "white_men                      0\n",
              "black_men                      0\n",
              "hispanic_men                   0\n",
              "women                          0\n",
              "white_women                    0\n",
              "black_women                    0\n",
              "hispanic_women                 0\n",
              "high_school                    0\n",
              "bachelors_degree               0\n",
              "recent_high-school_graduate    0\n",
              "recent_college_graduate        0\n",
              "dtype: int64"
            ]
          },
          "execution_count": 53,
          "metadata": {},
          "output_type": "execute_result"
        }
      ],
      "source": [
        "df_health.isnull().sum()"
      ]
    },
    {
      "cell_type": "code",
      "execution_count": null,
      "id": "c55969ce",
      "metadata": {
        "id": "c55969ce",
        "outputId": "b1fd4868-6ae4-4ef8-9710-0c3a3fe412f7"
      },
      "outputs": [
        {
          "name": "stdout",
          "output_type": "stream",
          "text": [
            "year                           0\n",
            "all                            0\n",
            "white                          0\n",
            "black                          1\n",
            "hispanic                       1\n",
            "men                            0\n",
            "white_men                      0\n",
            "black_men                      1\n",
            "hispanic_men                   1\n",
            "women                          1\n",
            "white_women                    1\n",
            "black_women                    0\n",
            "hispanic_women                 3\n",
            "high_school                    0\n",
            "bachelors_degree               0\n",
            "recent_high-school_graduate    1\n",
            "recent_college_graduate        0\n",
            "dtype: int64\n"
          ]
        }
      ],
      "source": [
        "Q1 = df_health.quantile(0.25)\n",
        "Q3 = df_health.quantile(0.75)\n",
        "IQR = Q3 - Q1\n",
        "outliers = ((df_health < (Q1 - 1.5 * IQR)) | (df_health > (Q3 + 1.5 * IQR)))\n",
        "print(outliers.sum())"
      ]
    },
    {
      "cell_type": "code",
      "execution_count": null,
      "id": "9f887759",
      "metadata": {
        "id": "9f887759",
        "outputId": "cc8ccc8c-a9a6-4d1d-fac3-ea8b4332955f"
      },
      "outputs": [
        {
          "name": "stdout",
          "output_type": "stream",
          "text": [
            "[53.8 52.6 54.  53.1 52.7 52.8 51.6 52.3 53.6 55.2 55.4 55.  54.9 55.9\n",
            " 56.4 57.3 58.2 58.9 58.7 58.  59.1 58.5 58.3 59.7 59.9 61.5 61.7 62.4\n",
            " 66.2]\n"
          ]
        }
      ],
      "source": [
        "print(df_health['all'].unique())"
      ]
    },
    {
      "cell_type": "markdown",
      "source": [
        "Conclusions:\n",
        "\n",
        "The dataset consists of 41 rows and 17 columns related to employer-sponsored health insurance coverage.\n",
        "Data types include float64 (16 columns) and int64 (1 column - year).\n",
        "Some columns represent different demographic groups, such as race (white, black, hispanic), gender (men, women), and education level.\n",
        "\n",
        "Data Usability:\n",
        "\n",
        "The dataset is mostly clean and usable, but it has few missing values. The missing values were handled by removing the rows.\n",
        "Using Interquartile Range (IQR), I identified some potential outliers in the Black, Hispanic, Black Men, Hispanic Men, Women, White Women, Hispanic Women, Recent High-School Graduates columns.\n",
        "These may represent significant variations in coverage due to policy changes, economic shifts, or data entry errors.\n",
        "\n",
        "Potential Modifications:\n",
        "\n",
        "To handle missing values the rows were removed.\n",
        "The identified outliers in the dataset require further investigation to determine their validity. These outliers could represent genuine variations in the data or potential errors. To make an informed decision on whether to retain or remove them, additional domain knowledge and context regarding the dataset are necessary. Without this information, it is not advisable to remove the outliers prematurely, as they may hold valuable insights.\n",
        "\n",
        "⚖ Class Imbalance Check:\n",
        "\n",
        "The dataset does not appear to have a significant class imbalance, as the categories represent continuous percentages rather than distinct classes."
      ],
      "metadata": {
        "id": "WZKQkPUnTtce"
      },
      "id": "WZKQkPUnTtce"
    },
    {
      "cell_type": "markdown",
      "id": "abab9e6d-18cc-4863-b980-3e52f581763a",
      "metadata": {
        "id": "abab9e6d-18cc-4863-b980-3e52f581763a"
      },
      "source": [
        "# 4. Storytelling With Data graph"
      ]
    },
    {
      "cell_type": "markdown",
      "id": "1911148d-9df6-4b33-a875-8c96408ec834",
      "metadata": {
        "id": "1911148d-9df6-4b33-a875-8c96408ec834"
      },
      "source": [
        "Just like last week: choose any graph in the Introduction of Storytelling With Data. Use matplotlib to reproduce it in a rough way. I don't expect you to spend an enormous amount of time on this; I understand that you likely will not have time to re-create every feature of the graph. However, if you're excited about learning to use matplotlib, this is a good way to do that. You don't have to duplicate the exact values on the graph; just the same rough shape will be enough.  If you don't feel comfortable using matplotlib yet, do the best you can and write down what you tried or what Google searches you did to find the answers."
      ]
    },
    {
      "cell_type": "code",
      "execution_count": null,
      "id": "8b2888f9-3700-45ab-9829-6a5372106f9f",
      "metadata": {
        "id": "8b2888f9-3700-45ab-9829-6a5372106f9f"
      },
      "outputs": [],
      "source": [
        "import matplotlib.pyplot as plt"
      ]
    },
    {
      "cell_type": "code",
      "execution_count": null,
      "id": "d1937fd3",
      "metadata": {
        "id": "d1937fd3",
        "outputId": "3fcd8d84-a4ee-402d-ee57-4efd5eb1fad8"
      },
      "outputs": [
        {
          "data": {
            "text/plain": [
              "<matplotlib.legend.Legend at 0x714d11fc4b30>"
            ]
          },
          "execution_count": 59,
          "metadata": {},
          "output_type": "execute_result"
        },
        {
          "data": {
            "image/png": "[encoded data removed]",
            "text/plain": [
              "<Figure size 1000x1200 with 1 Axes>"
            ]
          },
          "metadata": {},
          "output_type": "display_data"
        }
      ],
      "source": [
        "latest_year_data = df_health.iloc[0]\n",
        "year = latest_year_data['year']\n",
        "\n",
        "categories = ['white_men',  'black_men', 'hispanic_men', 'black_women', 'hispanic_women', 'white_women' ]\n",
        "values = latest_year_data[categories].values\n",
        "\n",
        "plt.figure(figsize=(10, 12))\n",
        "plt.pie(values, labels=categories, autopct='%1.1f%%', colors=['blue', 'green', 'red', 'orange', 'purple', 'pink'])\n",
        "plt.title(f'Health Insurance Coverage Breakdown - {year}')\n",
        "plt.legend()\n"
      ]
    },
    {
      "cell_type": "markdown",
      "id": "3995b7a9",
      "metadata": {
        "id": "3995b7a9"
      },
      "source": [
        "I looked at the book's introduction page to explore different types of graphs. While I was familiar with some, I didn't know how to draw few of them in Python until today. I learned how to create a pie chart and understand the distribution or composition of a variables at a glance. To ensure my understanding, I searched for help on ChatGPT and Google. I then made some adjustments to the inputs to verify my grasp of the concept."
      ]
    }
  ],
  "metadata": {
    "kernelspec": {
      "display_name": "Python 3",
      "language": "python",
      "name": "python3"
    },
    "language_info": {
      "codemirror_mode": {
        "name": "ipython",
        "version": 3
      },
      "file_extension": ".py",
      "mimetype": "text/x-python",
      "name": "python",
      "nbconvert_exporter": "python",
      "pygments_lexer": "ipython3",
      "version": "3.12.1"
    },
    "colab": {
      "provenance": []
    }
  },
  "nbformat": 4,
  "nbformat_minor": 5
}